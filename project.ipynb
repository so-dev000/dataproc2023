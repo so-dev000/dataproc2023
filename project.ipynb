{
 "cells": [
  {
   "cell_type": "code",
   "execution_count": 2,
   "metadata": {},
   "outputs": [
    {
     "name": "stdout",
     "output_type": "stream",
     "text": [
      "4615/4615"
     ]
    },
    {
     "ename": "ValueError",
     "evalue": "Invalid property specified for object of type plotly.graph_objs.layout.Mapbox: 'width'\n\nDid you mean \"pitch\"?\n\n    Valid properties:\n        accesstoken\n            Sets the mapbox access token to be used for this mapbox\n            map. Alternatively, the mapbox access token can be set\n            in the configuration options under `mapboxAccessToken`.\n            Note that accessToken are only required when `style`\n            (e.g with values : basic, streets, outdoors, light,\n            dark, satellite, satellite-streets ) and/or a layout\n            layer references the Mapbox server.\n        bearing\n            Sets the bearing angle of the map in degrees counter-\n            clockwise from North (mapbox.bearing).\n        bounds\n            :class:`plotly.graph_objects.layout.mapbox.Bounds`\n            instance or dict with compatible properties\n        center\n            :class:`plotly.graph_objects.layout.mapbox.Center`\n            instance or dict with compatible properties\n        domain\n            :class:`plotly.graph_objects.layout.mapbox.Domain`\n            instance or dict with compatible properties\n        layers\n            A tuple of\n            :class:`plotly.graph_objects.layout.mapbox.Layer`\n            instances or dicts with compatible properties\n        layerdefaults\n            When used in a template (as\n            layout.template.layout.mapbox.layerdefaults), sets the\n            default property values to use for elements of\n            layout.mapbox.layers\n        pitch\n            Sets the pitch angle of the map (in degrees, where 0\n            means perpendicular to the surface of the map)\n            (mapbox.pitch).\n        style\n            Defines the map layers that are rendered by default\n            below the trace layers defined in `data`, which are\n            themselves by default rendered below the layers defined\n            in `layout.mapbox.layers`.  These layers can be defined\n            either explicitly as a Mapbox Style object which can\n            contain multiple layer definitions that load data from\n            any public or private Tile Map Service (TMS or XYZ) or\n            Web Map Service (WMS) or implicitly by using one of the\n            built-in style objects which use WMSes which do not\n            require any access tokens, or by using a default Mapbox\n            style or custom Mapbox style URL, both of which require\n            a Mapbox access token  Note that Mapbox access token\n            can be set in the `accesstoken` attribute or in the\n            `mapboxAccessToken` config option.  Mapbox Style\n            objects are of the form described in the Mapbox GL JS\n            documentation available at\n            https://docs.mapbox.com/mapbox-gl-js/style-spec  The\n            built-in plotly.js styles objects are: carto-\n            darkmatter, carto-positron, open-street-map, stamen-\n            terrain, stamen-toner, stamen-watercolor, white-bg  The\n            built-in Mapbox styles are: basic, streets, outdoors,\n            light, dark, satellite, satellite-streets  Mapbox style\n            URLs are of the form:\n            mapbox://mapbox.mapbox-<name>-<version>\n        uirevision\n            Controls persistence of user-driven changes in the\n            view: `center`, `zoom`, `bearing`, `pitch`. Defaults to\n            `layout.uirevision`.\n        zoom\n            Sets the zoom level of the map (mapbox.zoom).\n        \nDid you mean \"pitch\"?\n\nBad property path:\nwidth\n^^^^^",
     "output_type": "error",
     "traceback": [
      "\u001b[0;31m---------------------------------------------------------------------------\u001b[0m",
      "\u001b[0;31mValueError\u001b[0m                                Traceback (most recent call last)",
      "Cell \u001b[0;32mIn[2], line 59\u001b[0m\n\u001b[1;32m     47\u001b[0m     lng\u001b[38;5;241m.\u001b[39mappend(i[\u001b[38;5;124m\"\u001b[39m\u001b[38;5;124mlng\u001b[39m\u001b[38;5;124m\"\u001b[39m])\n\u001b[1;32m     50\u001b[0m figure \u001b[38;5;241m=\u001b[39m go\u001b[38;5;241m.\u001b[39mFigure(\n\u001b[1;32m     51\u001b[0m     go\u001b[38;5;241m.\u001b[39mScattermapbox(\n\u001b[1;32m     52\u001b[0m         lat\u001b[38;5;241m=\u001b[39mlat,\n\u001b[0;32m   (...)\u001b[0m\n\u001b[1;32m     56\u001b[0m     )\n\u001b[1;32m     57\u001b[0m )\n\u001b[0;32m---> 59\u001b[0m \u001b[43mfigure\u001b[49m\u001b[38;5;241;43m.\u001b[39;49m\u001b[43mupdate_layout\u001b[49m\u001b[43m(\u001b[49m\n\u001b[1;32m     60\u001b[0m \u001b[43m    \u001b[49m\u001b[43mautosize\u001b[49m\u001b[38;5;241;43m=\u001b[39;49m\u001b[38;5;28;43;01mTrue\u001b[39;49;00m\u001b[43m,\u001b[49m\n\u001b[1;32m     61\u001b[0m \u001b[43m    \u001b[49m\u001b[43mhovermode\u001b[49m\u001b[38;5;241;43m=\u001b[39;49m\u001b[38;5;124;43m\"\u001b[39;49m\u001b[38;5;124;43mclosest\u001b[39;49m\u001b[38;5;124;43m\"\u001b[39;49m\u001b[43m,\u001b[49m\n\u001b[1;32m     62\u001b[0m \u001b[43m    \u001b[49m\u001b[43mmapbox\u001b[49m\u001b[38;5;241;43m=\u001b[39;49m\u001b[38;5;28;43mdict\u001b[39;49m\u001b[43m(\u001b[49m\n\u001b[1;32m     63\u001b[0m \u001b[43m        \u001b[49m\u001b[43maccesstoken\u001b[49m\u001b[38;5;241;43m=\u001b[39;49m\u001b[43mMAP_BOX_ACCESS_TOKEN\u001b[49m\u001b[43m,\u001b[49m\n\u001b[1;32m     64\u001b[0m \u001b[43m        \u001b[49m\u001b[43mcenter\u001b[49m\u001b[38;5;241;43m=\u001b[39;49m\u001b[38;5;28;43mdict\u001b[39;49m\u001b[43m(\u001b[49m\u001b[43mlat\u001b[49m\u001b[38;5;241;43m=\u001b[39;49m\u001b[38;5;241;43m38.5\u001b[39;49m\u001b[43m,\u001b[49m\u001b[43m \u001b[49m\u001b[43mlon\u001b[49m\u001b[38;5;241;43m=\u001b[39;49m\u001b[38;5;241;43m137.5\u001b[39;49m\u001b[43m)\u001b[49m\u001b[43m,\u001b[49m\n\u001b[1;32m     65\u001b[0m \u001b[43m        \u001b[49m\u001b[43mzoom\u001b[49m\u001b[38;5;241;43m=\u001b[39;49m\u001b[38;5;241;43m3\u001b[39;49m\u001b[43m,\u001b[49m\n\u001b[1;32m     66\u001b[0m \u001b[43m        \u001b[49m\u001b[43mpitch\u001b[49m\u001b[38;5;241;43m=\u001b[39;49m\u001b[38;5;241;43m0\u001b[39;49m\u001b[43m,\u001b[49m\n\u001b[1;32m     67\u001b[0m \u001b[43m        \u001b[49m\u001b[43mbearing\u001b[49m\u001b[38;5;241;43m=\u001b[39;49m\u001b[38;5;241;43m0\u001b[39;49m\u001b[43m,\u001b[49m\n\u001b[1;32m     68\u001b[0m \u001b[43m        \u001b[49m\u001b[43mwidth\u001b[49m\u001b[38;5;241;43m=\u001b[39;49m\u001b[38;5;241;43m50\u001b[39;49m\n\u001b[1;32m     69\u001b[0m \u001b[43m    \u001b[49m\u001b[43m)\u001b[49m\u001b[43m,\u001b[49m\n\u001b[1;32m     70\u001b[0m \u001b[43m)\u001b[49m\n\u001b[1;32m     71\u001b[0m figure\u001b[38;5;241m.\u001b[39mshow()\n",
      "File \u001b[0;32m~/dataproc2023/.venv/lib/python3.10/site-packages/plotly/graph_objs/_figure.py:775\u001b[0m, in \u001b[0;36mFigure.update_layout\u001b[0;34m(self, dict1, overwrite, **kwargs)\u001b[0m\n\u001b[1;32m    749\u001b[0m \u001b[38;5;28;01mdef\u001b[39;00m \u001b[38;5;21mupdate_layout\u001b[39m(\u001b[38;5;28mself\u001b[39m, dict1\u001b[38;5;241m=\u001b[39m\u001b[38;5;28;01mNone\u001b[39;00m, overwrite\u001b[38;5;241m=\u001b[39m\u001b[38;5;28;01mFalse\u001b[39;00m, \u001b[38;5;241m*\u001b[39m\u001b[38;5;241m*\u001b[39mkwargs) \u001b[38;5;241m-\u001b[39m\u001b[38;5;241m>\u001b[39m \u001b[38;5;124m\"\u001b[39m\u001b[38;5;124mFigure\u001b[39m\u001b[38;5;124m\"\u001b[39m:\n\u001b[1;32m    750\u001b[0m \u001b[38;5;250m    \u001b[39m\u001b[38;5;124;03m\"\"\"\u001b[39;00m\n\u001b[1;32m    751\u001b[0m \n\u001b[1;32m    752\u001b[0m \u001b[38;5;124;03m    Update the properties of the figure's layout with a dict and/or with\u001b[39;00m\n\u001b[0;32m   (...)\u001b[0m\n\u001b[1;32m    773\u001b[0m \n\u001b[1;32m    774\u001b[0m \u001b[38;5;124;03m    \"\"\"\u001b[39;00m\n\u001b[0;32m--> 775\u001b[0m     \u001b[38;5;28;01mreturn\u001b[39;00m \u001b[38;5;28;43msuper\u001b[39;49m\u001b[43m(\u001b[49m\u001b[43mFigure\u001b[49m\u001b[43m,\u001b[49m\u001b[43m \u001b[49m\u001b[38;5;28;43mself\u001b[39;49m\u001b[43m)\u001b[49m\u001b[38;5;241;43m.\u001b[39;49m\u001b[43mupdate_layout\u001b[49m\u001b[43m(\u001b[49m\u001b[43mdict1\u001b[49m\u001b[43m,\u001b[49m\u001b[43m \u001b[49m\u001b[43moverwrite\u001b[49m\u001b[43m,\u001b[49m\u001b[43m \u001b[49m\u001b[38;5;241;43m*\u001b[39;49m\u001b[38;5;241;43m*\u001b[39;49m\u001b[43mkwargs\u001b[49m\u001b[43m)\u001b[49m\n",
      "File \u001b[0;32m~/dataproc2023/.venv/lib/python3.10/site-packages/plotly/basedatatypes.py:1391\u001b[0m, in \u001b[0;36mBaseFigure.update_layout\u001b[0;34m(self, dict1, overwrite, **kwargs)\u001b[0m\n\u001b[1;32m   1367\u001b[0m \u001b[38;5;28;01mdef\u001b[39;00m \u001b[38;5;21mupdate_layout\u001b[39m(\u001b[38;5;28mself\u001b[39m, dict1\u001b[38;5;241m=\u001b[39m\u001b[38;5;28;01mNone\u001b[39;00m, overwrite\u001b[38;5;241m=\u001b[39m\u001b[38;5;28;01mFalse\u001b[39;00m, \u001b[38;5;241m*\u001b[39m\u001b[38;5;241m*\u001b[39mkwargs):\n\u001b[1;32m   1368\u001b[0m \u001b[38;5;250m    \u001b[39m\u001b[38;5;124;03m\"\"\"\u001b[39;00m\n\u001b[1;32m   1369\u001b[0m \u001b[38;5;124;03m    Update the properties of the figure's layout with a dict and/or with\u001b[39;00m\n\u001b[1;32m   1370\u001b[0m \u001b[38;5;124;03m    keyword arguments.\u001b[39;00m\n\u001b[0;32m   (...)\u001b[0m\n\u001b[1;32m   1389\u001b[0m \u001b[38;5;124;03m        The Figure object that the update_layout method was called on\u001b[39;00m\n\u001b[1;32m   1390\u001b[0m \u001b[38;5;124;03m    \"\"\"\u001b[39;00m\n\u001b[0;32m-> 1391\u001b[0m     \u001b[38;5;28;43mself\u001b[39;49m\u001b[38;5;241;43m.\u001b[39;49m\u001b[43mlayout\u001b[49m\u001b[38;5;241;43m.\u001b[39;49m\u001b[43mupdate\u001b[49m\u001b[43m(\u001b[49m\u001b[43mdict1\u001b[49m\u001b[43m,\u001b[49m\u001b[43m \u001b[49m\u001b[43moverwrite\u001b[49m\u001b[38;5;241;43m=\u001b[39;49m\u001b[43moverwrite\u001b[49m\u001b[43m,\u001b[49m\u001b[43m \u001b[49m\u001b[38;5;241;43m*\u001b[39;49m\u001b[38;5;241;43m*\u001b[39;49m\u001b[43mkwargs\u001b[49m\u001b[43m)\u001b[49m\n\u001b[1;32m   1392\u001b[0m     \u001b[38;5;28;01mreturn\u001b[39;00m \u001b[38;5;28mself\u001b[39m\n",
      "File \u001b[0;32m~/dataproc2023/.venv/lib/python3.10/site-packages/plotly/basedatatypes.py:5137\u001b[0m, in \u001b[0;36mBasePlotlyType.update\u001b[0;34m(self, dict1, overwrite, **kwargs)\u001b[0m\n\u001b[1;32m   5135\u001b[0m     \u001b[38;5;28;01mwith\u001b[39;00m \u001b[38;5;28mself\u001b[39m\u001b[38;5;241m.\u001b[39mfigure\u001b[38;5;241m.\u001b[39mbatch_update():\n\u001b[1;32m   5136\u001b[0m         BaseFigure\u001b[38;5;241m.\u001b[39m_perform_update(\u001b[38;5;28mself\u001b[39m, dict1, overwrite\u001b[38;5;241m=\u001b[39moverwrite)\n\u001b[0;32m-> 5137\u001b[0m         \u001b[43mBaseFigure\u001b[49m\u001b[38;5;241;43m.\u001b[39;49m\u001b[43m_perform_update\u001b[49m\u001b[43m(\u001b[49m\u001b[38;5;28;43mself\u001b[39;49m\u001b[43m,\u001b[49m\u001b[43m \u001b[49m\u001b[43mkwargs\u001b[49m\u001b[43m,\u001b[49m\u001b[43m \u001b[49m\u001b[43moverwrite\u001b[49m\u001b[38;5;241;43m=\u001b[39;49m\u001b[43moverwrite\u001b[49m\u001b[43m)\u001b[49m\n\u001b[1;32m   5138\u001b[0m \u001b[38;5;28;01melse\u001b[39;00m:\n\u001b[1;32m   5139\u001b[0m     BaseFigure\u001b[38;5;241m.\u001b[39m_perform_update(\u001b[38;5;28mself\u001b[39m, dict1, overwrite\u001b[38;5;241m=\u001b[39moverwrite)\n",
      "File \u001b[0;32m~/dataproc2023/.venv/lib/python3.10/site-packages/plotly/basedatatypes.py:3919\u001b[0m, in \u001b[0;36mBaseFigure._perform_update\u001b[0;34m(plotly_obj, update_obj, overwrite)\u001b[0m\n\u001b[1;32m   3913\u001b[0m validator \u001b[38;5;241m=\u001b[39m plotly_obj\u001b[38;5;241m.\u001b[39m_get_prop_validator(key)\n\u001b[1;32m   3915\u001b[0m \u001b[38;5;28;01mif\u001b[39;00m \u001b[38;5;28misinstance\u001b[39m(validator, CompoundValidator) \u001b[38;5;129;01mand\u001b[39;00m \u001b[38;5;28misinstance\u001b[39m(val, \u001b[38;5;28mdict\u001b[39m):\n\u001b[1;32m   3916\u001b[0m \n\u001b[1;32m   3917\u001b[0m     \u001b[38;5;66;03m# Update compound objects recursively\u001b[39;00m\n\u001b[1;32m   3918\u001b[0m     \u001b[38;5;66;03m# plotly_obj[key].update(val)\u001b[39;00m\n\u001b[0;32m-> 3919\u001b[0m     \u001b[43mBaseFigure\u001b[49m\u001b[38;5;241;43m.\u001b[39;49m\u001b[43m_perform_update\u001b[49m\u001b[43m(\u001b[49m\u001b[43mplotly_obj\u001b[49m\u001b[43m[\u001b[49m\u001b[43mkey\u001b[49m\u001b[43m]\u001b[49m\u001b[43m,\u001b[49m\u001b[43m \u001b[49m\u001b[43mval\u001b[49m\u001b[43m)\u001b[49m\n\u001b[1;32m   3920\u001b[0m \u001b[38;5;28;01melif\u001b[39;00m \u001b[38;5;28misinstance\u001b[39m(validator, CompoundArrayValidator):\n\u001b[1;32m   3921\u001b[0m     \u001b[38;5;28;01mif\u001b[39;00m plotly_obj[key]:\n\u001b[1;32m   3922\u001b[0m         \u001b[38;5;66;03m# plotly_obj has an existing non-empty array for key\u001b[39;00m\n\u001b[1;32m   3923\u001b[0m         \u001b[38;5;66;03m# In this case we merge val into the existing elements\u001b[39;00m\n",
      "File \u001b[0;32m~/dataproc2023/.venv/lib/python3.10/site-packages/plotly/basedatatypes.py:3896\u001b[0m, in \u001b[0;36mBaseFigure._perform_update\u001b[0;34m(plotly_obj, update_obj, overwrite)\u001b[0m\n\u001b[1;32m   3894\u001b[0m     err \u001b[38;5;241m=\u001b[39m _check_path_in_prop_tree(plotly_obj, key, error_cast\u001b[38;5;241m=\u001b[39m\u001b[38;5;167;01mValueError\u001b[39;00m)\n\u001b[1;32m   3895\u001b[0m     \u001b[38;5;28;01mif\u001b[39;00m err \u001b[38;5;129;01mis\u001b[39;00m \u001b[38;5;129;01mnot\u001b[39;00m \u001b[38;5;28;01mNone\u001b[39;00m:\n\u001b[0;32m-> 3896\u001b[0m         \u001b[38;5;28;01mraise\u001b[39;00m err\n\u001b[1;32m   3898\u001b[0m \u001b[38;5;66;03m# Convert update_obj to dict\u001b[39;00m\n\u001b[1;32m   3899\u001b[0m \u001b[38;5;66;03m# --------------------------\u001b[39;00m\n\u001b[1;32m   3900\u001b[0m \u001b[38;5;28;01mif\u001b[39;00m \u001b[38;5;28misinstance\u001b[39m(update_obj, BasePlotlyType):\n",
      "\u001b[0;31mValueError\u001b[0m: Invalid property specified for object of type plotly.graph_objs.layout.Mapbox: 'width'\n\nDid you mean \"pitch\"?\n\n    Valid properties:\n        accesstoken\n            Sets the mapbox access token to be used for this mapbox\n            map. Alternatively, the mapbox access token can be set\n            in the configuration options under `mapboxAccessToken`.\n            Note that accessToken are only required when `style`\n            (e.g with values : basic, streets, outdoors, light,\n            dark, satellite, satellite-streets ) and/or a layout\n            layer references the Mapbox server.\n        bearing\n            Sets the bearing angle of the map in degrees counter-\n            clockwise from North (mapbox.bearing).\n        bounds\n            :class:`plotly.graph_objects.layout.mapbox.Bounds`\n            instance or dict with compatible properties\n        center\n            :class:`plotly.graph_objects.layout.mapbox.Center`\n            instance or dict with compatible properties\n        domain\n            :class:`plotly.graph_objects.layout.mapbox.Domain`\n            instance or dict with compatible properties\n        layers\n            A tuple of\n            :class:`plotly.graph_objects.layout.mapbox.Layer`\n            instances or dicts with compatible properties\n        layerdefaults\n            When used in a template (as\n            layout.template.layout.mapbox.layerdefaults), sets the\n            default property values to use for elements of\n            layout.mapbox.layers\n        pitch\n            Sets the pitch angle of the map (in degrees, where 0\n            means perpendicular to the surface of the map)\n            (mapbox.pitch).\n        style\n            Defines the map layers that are rendered by default\n            below the trace layers defined in `data`, which are\n            themselves by default rendered below the layers defined\n            in `layout.mapbox.layers`.  These layers can be defined\n            either explicitly as a Mapbox Style object which can\n            contain multiple layer definitions that load data from\n            any public or private Tile Map Service (TMS or XYZ) or\n            Web Map Service (WMS) or implicitly by using one of the\n            built-in style objects which use WMSes which do not\n            require any access tokens, or by using a default Mapbox\n            style or custom Mapbox style URL, both of which require\n            a Mapbox access token  Note that Mapbox access token\n            can be set in the `accesstoken` attribute or in the\n            `mapboxAccessToken` config option.  Mapbox Style\n            objects are of the form described in the Mapbox GL JS\n            documentation available at\n            https://docs.mapbox.com/mapbox-gl-js/style-spec  The\n            built-in plotly.js styles objects are: carto-\n            darkmatter, carto-positron, open-street-map, stamen-\n            terrain, stamen-toner, stamen-watercolor, white-bg  The\n            built-in Mapbox styles are: basic, streets, outdoors,\n            light, dark, satellite, satellite-streets  Mapbox style\n            URLs are of the form:\n            mapbox://mapbox.mapbox-<name>-<version>\n        uirevision\n            Controls persistence of user-driven changes in the\n            view: `center`, `zoom`, `bearing`, `pitch`. Defaults to\n            `layout.uirevision`.\n        zoom\n            Sets the zoom level of the map (mapbox.zoom).\n        \nDid you mean \"pitch\"?\n\nBad property path:\nwidth\n^^^^^"
     ]
    }
   ],
   "source": [
    "import json\n",
    "import os\n",
    "from typing import Final\n",
    "\n",
    "import requests\n",
    "import plotly.graph_objects as go\n",
    "from dotenv import load_dotenv\n",
    "from requests import Response\n",
    "\n",
    "load_dotenv()\n",
    "MAP_BOX_ACCESS_TOKEN: Final = os.getenv(\"MAP_BOX_ACCESS_TOKEN\")\n",
    "HOT_PEPPER_API_KEY: Final = os.getenv(\"HOT_PEPPER_API_KEY\")\n",
    "API_URL: Final = \"http://webservice.recruit.co.jp/hotpepper/gourmet/v1/\"\n",
    "\n",
    "\n",
    "def fetch_data(keyword: str) -> dict:\n",
    "    params: dict = {\n",
    "        \"key\": HOT_PEPPER_API_KEY,\n",
    "        \"keyword\": keyword,\n",
    "        \"format\": \"json\",\n",
    "        \"count\": 100,\n",
    "    }\n",
    "    request: Response = requests.get(API_URL, params=params)\n",
    "    result: dict = json.loads(request.content)[\"results\"]\n",
    "    results_available: int = result[\"results_available\"]\n",
    "    results_start: int = result[\"results_start\"]\n",
    "    shop: dict = result[\"shop\"]\n",
    "\n",
    "    start: int = results_start\n",
    "    while start <= results_available:\n",
    "        print(\"\\r\"+str(results_start) + \"/\" + str(results_available),end=\"\")\n",
    "        start += 100\n",
    "        params[\"start\"] = start\n",
    "        request: Response = requests.get(API_URL, params=params)\n",
    "        result: dict = json.loads(request.content)[\"results\"]\n",
    "        results_start: int = result[\"results_start\"]\n",
    "        shop += result[\"shop\"]\n",
    "    print(\"\\r\"+str(results_available),end=\"\")\n",
    "    return shop\n",
    "\n",
    "\n",
    "data: dict = fetch_data(\"寿司\")\n",
    "lat: list[int] = []\n",
    "lng:list[int] = []\n",
    "for i in data:\n",
    "    lat.append(i[\"lat\"])\n",
    "    lng.append(i[\"lng\"])\n",
    "\n",
    "\n",
    "figure = go.Figure(\n",
    "    go.Scattermapbox(\n",
    "        lat=lat,\n",
    "        lon=lng,\n",
    "        mode=\"markers\",\n",
    "        marker=go.scattermapbox.Marker(size=5),\n",
    "    )\n",
    ")\n",
    "\n",
    "figure.update_layout(\n",
    "    autosize=True,\n",
    "    hovermode=\"closest\",\n",
    "    mapbox=dict(\n",
    "        accesstoken=MAP_BOX_ACCESS_TOKEN,\n",
    "        center=dict(lat=38.5, lon=137.5),\n",
    "        zoom=3,\n",
    "        pitch=0,\n",
    "        bearing=0,\n",
    "    ),\n",
    ")\n",
    "figure.show()"
   ]
  }
 ],
 "metadata": {
  "kernelspec": {
   "display_name": ".venv",
   "language": "python",
   "name": "python3"
  },
  "language_info": {
   "codemirror_mode": {
    "name": "ipython",
    "version": 3
   },
   "file_extension": ".py",
   "mimetype": "text/x-python",
   "name": "python",
   "nbconvert_exporter": "python",
   "pygments_lexer": "ipython3",
   "version": "3.10.12"
  }
 },
 "nbformat": 4,
 "nbformat_minor": 2
}
